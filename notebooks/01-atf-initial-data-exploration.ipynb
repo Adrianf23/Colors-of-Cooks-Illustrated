{
 "cells": [
  {
   "cell_type": "markdown",
   "id": "13684f2c-e6c8-4fe4-a476-a758a59e8057",
   "metadata": {},
   "source": [
    "# Import Libraries"
   ]
  },
  {
   "cell_type": "code",
   "execution_count": null,
   "id": "0d811b7f-bac0-42ce-96c5-f78dcb3cf9c4",
   "metadata": {},
   "outputs": [],
   "source": [
    "from IPython.display import display, HTML\n",
    "\n",
    "# display(HTML(\"<style>.container { width:100% !important; }</style>\"))\n",
    "\n",
    "%load_ext autoreload\n",
    "%autoreload 2\n",
    "\n",
    "%load_ext jupyter_black"
   ]
  },
  {
   "cell_type": "code",
   "execution_count": null,
   "id": "26d5034f-a12f-4bb2-807e-395f916db905",
   "metadata": {},
   "outputs": [],
   "source": [
    "import matplotlib.pyplot as plt\n",
    "import numpy as np\n",
    "import polars as pl\n",
    "from pathlib import Path\n",
    "from PIL import Image"
   ]
  },
  {
   "cell_type": "markdown",
   "id": "f044d319-fd79-4c83-a636-d0a3ba19acdb",
   "metadata": {},
   "source": [
    "# Load the dataset"
   ]
  },
  {
   "cell_type": "code",
   "execution_count": null,
   "id": "2e5da034-3de4-4ed7-accf-e6c622f8fe39",
   "metadata": {},
   "outputs": [],
   "source": [
    "magazine_covers = Path.cwd().parent / \"data\" / \"raw\" / \"magazine_covers.csv\"\n",
    "magazine_df = pl.scan_csv(magazine_covers).filter(pl.col.is_blank_cover != 1)"
   ]
  },
  {
   "cell_type": "code",
   "execution_count": null,
   "id": "2ebfcc19-0ed9-40d6-a49d-7dc52113e234",
   "metadata": {},
   "outputs": [],
   "source": [
    "image_folder = Path.cwd().parent / \"data\" / \"interim\" / \"kmeans\"\n",
    "image_list = list(image_folder.glob(\"*.parquet\"))"
   ]
  },
  {
   "cell_type": "code",
   "execution_count": null,
   "id": "326db422-1ea4-4280-9f03-4b08c1bdf16c",
   "metadata": {},
   "outputs": [],
   "source": [
    "kmeans_df = pl.scan_parquet(image_list).select(pl.exclude(\"og_image\", \"image_labels\"))"
   ]
  },
  {
   "cell_type": "code",
   "execution_count": null,
   "id": "f2a17db3-699f-4338-bc04-7c31ab581db6",
   "metadata": {},
   "outputs": [],
   "source": [
    "image_df = kmeans_df.join(other=magazine_df, on=\"filename\", how=\"left\").filter(\n",
    "    pl.col.is_blank_cover.is_not_null()\n",
    ")"
   ]
  },
  {
   "cell_type": "code",
   "execution_count": null,
   "id": "3c8ac6d9-4499-4fea-85ff-d28131be5354",
   "metadata": {},
   "outputs": [],
   "source": [
    "full_df = image_df.collect(streaming=True)\n",
    "full_df"
   ]
  },
  {
   "cell_type": "markdown",
   "id": "84c013f1-7e47-4843-8690-ef597ac5f64a",
   "metadata": {},
   "source": [
    "# Color Analysis (First three images)"
   ]
  },
  {
   "cell_type": "code",
   "execution_count": null,
   "id": "a5985115-5f7f-4e79-862f-9733b42e8464",
   "metadata": {},
   "outputs": [],
   "source": [
    "first_three_images = full_df.head(10)"
   ]
  },
  {
   "cell_type": "code",
   "execution_count": null,
   "id": "b5c4ee97-ac16-4dab-a29a-0e3a464753e6",
   "metadata": {},
   "outputs": [],
   "source": [
    "first_three_images"
   ]
  },
  {
   "cell_type": "code",
   "execution_count": null,
   "id": "b2f52823-892c-46d9-b487-5f69034f3d1b",
   "metadata": {},
   "outputs": [],
   "source": [
    "for col in first_three_images.get_column(\"filepath\"):\n",
    "    im = Image.open(col)\n",
    "    plt.imshow(im)\n",
    "    plt.show(im)"
   ]
  },
  {
   "cell_type": "code",
   "execution_count": null,
   "id": "16aaf0b8-f87e-4040-b577-8c8c2a0150d5",
   "metadata": {},
   "outputs": [],
   "source": [
    "from sklearn.cluster import KMeans\n",
    "\n",
    "with Image.open(\"Viceroy_Butterfly.jpg\") as img:\n",
    "    # Convert any RGBA -> RGB\n",
    "    if np.asarray(img).shape[2] == 4:\n",
    "        X: np.ndarray = np.asarray(img.convert(mode=\"RGB\")).reshape(-1, 3)\n",
    "    else:\n",
    "        X = np.asarray(img).reshape(-1, 3)\n",
    "    kmeans: KMeans = KMeans(n_clusters=2)\n",
    "    kmeans.fit(X)\n",
    "    print(kmeans.cluster_centers_[kmeans.labels_])\n",
    "    # print(kmeans.labels_)"
   ]
  },
  {
   "cell_type": "code",
   "execution_count": null,
   "id": "68f11a1b-b6be-4439-b25e-093fe830556e",
   "metadata": {},
   "outputs": [],
   "source": [
    "np.array(\n",
    "    [[173.93472002, 193.97689932, 109.05254231], [72.53669112, 73.44085545, 36.9826309]]\n",
    ")[np.array([0, 1, 1, 1])]"
   ]
  },
  {
   "cell_type": "code",
   "execution_count": null,
   "id": "97abe195-ed9e-4974-abbc-2290f7aade49",
   "metadata": {},
   "outputs": [],
   "source": [
    "kmeans.labels_"
   ]
  },
  {
   "cell_type": "code",
   "execution_count": null,
   "id": "5467bacb-cac2-4193-9af4-a61afc0720b5",
   "metadata": {},
   "outputs": [],
   "source": [
    "from PIL import Image, ImageDraw\n",
    "\n",
    "# Create a new image with a white background\n",
    "image = Image.new(\"RGB\", (200, 200), \"white\")\n",
    "draw = ImageDraw.Draw(image)\n",
    "\n",
    "# Define the coordinates for the big square\n",
    "big_square_coords = (0, 0, 200, 200)\n",
    "\n",
    "# Define the coordinates for the three inner squares\n",
    "inner_square1_coords = (25, 25, 100, 175)\n",
    "inner_square2_coords = (100, 25, 175, 100)\n",
    "inner_square3_coords = (100, 100, 175, 175)\n",
    "\n",
    "# Draw the big square\n",
    "draw.rectangle(big_square_coords, fill=(255, 0, 0))\n",
    "\n",
    "# Draw the three inner squares\n",
    "draw.rectangle(inner_square1_coords, fill=(0, 255, 0))\n",
    "draw.rectangle(inner_square2_coords, fill=(0, 0, 255))\n",
    "draw.rectangle(inner_square3_coords, fill=(255, 255, 0))\n",
    "\n",
    "# Display the image\n",
    "plt.imshow(image)\n",
    "plt.axis(\"off\")  # Turn off the axis\n",
    "plt.show()\n",
    "# Save the image to disk without white border\n",
    "# plt.savefig(\n",
    "#     \"colored_squares_no_border.webp\", bbox_inches=\"tight\", pad_inches=0, dpi=300\n",
    "# )"
   ]
  },
  {
   "cell_type": "code",
   "execution_count": null,
   "id": "ce99a0be-8537-403b-9a36-674226202301",
   "metadata": {},
   "outputs": [],
   "source": []
  }
 ],
 "metadata": {
  "kernelspec": {
   "display_name": "cooks-illustrated",
   "language": "python",
   "name": "cooks-illustrated"
  },
  "language_info": {
   "codemirror_mode": {
    "name": "ipython",
    "version": 3
   },
   "file_extension": ".py",
   "mimetype": "text/x-python",
   "name": "python",
   "nbconvert_exporter": "python",
   "pygments_lexer": "ipython3",
   "version": "3.12.1"
  }
 },
 "nbformat": 4,
 "nbformat_minor": 5
}
