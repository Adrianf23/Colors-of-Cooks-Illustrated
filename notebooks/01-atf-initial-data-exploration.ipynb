{
 "cells": [
  {
   "cell_type": "code",
   "execution_count": null,
   "id": "0d811b7f-bac0-42ce-96c5-f78dcb3cf9c4",
   "metadata": {},
   "outputs": [],
   "source": [
    "from IPython.display import display, HTML\n",
    "display(HTML(\"<style>.container { width:100% !important; }</style>\"))\n",
    "\n",
    "%load_ext autoreload\n",
    "%autoreload 2\n",
    "\n",
    "%load_ext jupyter_black"
   ]
  },
  {
   "cell_type": "code",
   "execution_count": null,
   "id": "26d5034f-a12f-4bb2-807e-395f916db905",
   "metadata": {},
   "outputs": [],
   "source": [
    "import numpy as np\n",
    "import polars as pl\n",
    "from pathlib import Path\n",
    "from PIL import Image"
   ]
  },
  {
   "cell_type": "code",
   "execution_count": null,
   "id": "a365fba9-f142-48a2-bbc9-7c5333a472ed",
   "metadata": {
    "scrolled": true
   },
   "outputs": [],
   "source": [
    "magazine_covers = Path.cwd().parent / \"data\" / \"raw\" / \"magazine_covers.csv\"\n",
    "df = pl.read_csv(magazine_covers)\n",
    "df"
   ]
  },
  {
   "cell_type": "code",
   "execution_count": null,
   "id": "2ebfcc19-0ed9-40d6-a49d-7dc52113e234",
   "metadata": {},
   "outputs": [],
   "source": [
    "image_folder = Path.cwd().parent / \"data\" / \"interim\"\n",
    "image_list = list(image_folder.glob(\"*.parquet\"))\n",
    "first_img = image_list[0]"
   ]
  }
 ],
 "metadata": {
  "kernelspec": {
   "display_name": "cooks-illustrated",
   "language": "python",
   "name": "cooks-illustrated"
  },
  "language_info": {
   "codemirror_mode": {
    "name": "ipython",
    "version": 3
   },
   "file_extension": ".py",
   "mimetype": "text/x-python",
   "name": "python",
   "nbconvert_exporter": "python",
   "pygments_lexer": "ipython3",
   "version": "3.12.1"
  }
 },
 "nbformat": 4,
 "nbformat_minor": 5
}
